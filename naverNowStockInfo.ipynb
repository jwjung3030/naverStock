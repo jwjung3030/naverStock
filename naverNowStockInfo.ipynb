{
  "nbformat": 4,
  "nbformat_minor": 0,
  "metadata": {
    "colab": {
      "name": "naverStock.ipynb",
      "provenance": [],
      "collapsed_sections": [],
      "authorship_tag": "ABX9TyOKvYBZM8QP71IZBxh5cag/",
      "include_colab_link": true
    },
    "kernelspec": {
      "name": "python3",
      "display_name": "Python 3"
    }
  },
  "cells": [
    {
      "cell_type": "markdown",
      "metadata": {
        "id": "view-in-github",
        "colab_type": "text"
      },
      "source": [
        "<a href=\"https://colab.research.google.com/github/jwjung3030/naverStock/blob/main/naverNowStockInfo.ipynb\" target=\"_parent\"><img src=\"https://colab.research.google.com/assets/colab-badge.svg\" alt=\"Open In Colab\"/></a>"
      ]
    },
    {
      "cell_type": "markdown",
      "metadata": {
        "id": "KNaobMT8hIDw"
      },
      "source": [
        "네이버에서 정보 가져오기"
      ]
    },
    {
      "cell_type": "code",
      "metadata": {
        "id": "6oyYWdY_S2Ix",
        "colab": {
          "base_uri": "https://localhost:8080/"
        },
        "outputId": "9d7aa626-fd64-4aa4-fc7b-ea9305577256"
      },
      "source": [
        "import requests\n",
        "import json\n",
        "from pandas.io.json import json_normalize\n",
        "import pandas as pd\n",
        "import math\n",
        "from bs4 import BeautifulSoup\n",
        "\n",
        "class NaverStockItem:\n",
        "    def __init__(self, stock_code='001720'):\n",
        "      self.stock_code = stock_code\n",
        "      self.api_url = 'http://api.finance.naver.com/service/itemSummary.nhn?itemcode='+self.stock_code\n",
        "      self.json_data = json.loads(requests.get(self.api_url).text)\n",
        "      self.pbr = self.json_data['pbr']\n",
        "      self.per = self.json_data['per']\n",
        "      self.eps = self.json_data['eps']\n",
        "      self.now = self.json_data['now']\n",
        "      self.bps = round(self.json_data['now']/self.json_data['pbr'], 2)\n",
        "      # 리턴값\n",
        "      # {\n",
        "      # \"marketSum\":221817, -> 시가 총액  2218억 17백만\n",
        "      # \"risefall\":2,    -> 1 : 상한 , 2 : 상승, 3: 보합? , 4 : 하한, 5, 하락\n",
        "      # \"diff\":3200,    -> 전일대비 가격 차이\n",
        "      # \"rate\":9.51,  -> 상승율\n",
        "      # \"high\":38900, ->고가\n",
        "      # \"low\":34150, ->저가\n",
        "      # \"quant\":329660, -> 거래량\n",
        "      # \"amount\":12156468, -> 거래대금\n",
        "      # \"per\":24.31, -> PER\n",
        "      # \"eps\":1516.0, -> EPS\n",
        "      # \"pbr\":4.25, -> PBR\n",
        "      # \"now\":36850  -> 현재가\n",
        "      # }\n",
        "\n",
        "    def rate_dps(self):\n",
        "        web_url = \"https://finance.naver.com/item/main.nhn?code={0}\".format(self.stock_code)\n",
        "        resp = requests.get(web_url)\n",
        "        soup = BeautifulSoup(resp.text, 'html.parser')\n",
        "        data = soup.select(\"table.per_table > tr > td > em#_dvr\")\n",
        "        #_dvr\n",
        "        #/html/body/div[3]/div[1]/div[2]/div[2]/div[2]/div[2]/div[4]/table/tbody[2]/tr[3]/td/em\n",
        "        return float(data[0].text)\n",
        "\n",
        "    def stock_name(self):\n",
        "        web_url = \"https://finance.naver.com/item/main.nhn?code={0}\".format(self.stock_code)\n",
        "        resp = requests.get(web_url)\n",
        "        soup = BeautifulSoup(resp.text, 'html.parser')\n",
        "        data = soup.select(\"title\")\n",
        "        return data[0].text.split(':')[0]\n",
        "\n",
        "if __name__ == \"__main__\":\n",
        "    SI = NaverStockItem('005385')\n",
        "    print(SI.json_data)\n",
        "    print(\"PBR: {0}\".format(SI.pbr))\n",
        "    print(\"PER: {0}\".format(SI.per))\n",
        "    print(\"EPS: {0}\".format(SI.eps))\n",
        "    print(\"BPS: {0}\".format(SI.bps))\n",
        "    print(\"DPS_RATE: {0}\".format(SI.rate_dps()))\n",
        "    print(\"STOCK_NAME: {0}\".format(SI.stock_name()))"
      ],
      "execution_count": 1,
      "outputs": [
        {
          "output_type": "stream",
          "text": [
            "{'marketSum': 2801018, 'per': 13.92, 'eps': 8263.0, 'pbr': 0.42, 'now': 115000, 'diff': -1000, 'rate': -0.86, 'quant': 21530, 'amount': 2481, 'high': 116000, 'low': 114500, 'risefall': 5}\n",
            "PBR: 0.42\n",
            "PER: 13.92\n",
            "EPS: 8263.0\n",
            "BPS: 273809.52\n",
            "DPS_RATE: 2.65\n",
            "STOCK_NAME: 현대차우 \n"
          ],
          "name": "stdout"
        }
      ]
    }
  ]
}